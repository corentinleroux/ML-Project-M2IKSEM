{
 "cells": [
  {
   "cell_type": "code",
   "execution_count": 1,
   "id": "a06c3c08",
   "metadata": {},
   "outputs": [],
   "source": [
    "import numpy as np \n",
    "import pandas as pd\n",
    "import os\n",
    "for dirname, _, filenames in os.walk('/kaggle/input'):\n",
    "    for filename in filenames:\n",
    "        print(os.path.join(dirname, filename))\n"
   ]
  },
  {
   "cell_type": "code",
   "execution_count": 2,
   "id": "ee8033a8",
   "metadata": {},
   "outputs": [],
   "source": [
    "import pandas as pd\n",
    "import numpy as np\n",
    "import matplotlib.pyplot as plt\n",
    "from sklearn.model_selection import train_test_split\n",
    "from sklearn.neighbors import KNeighborsClassifier\n",
    "from sklearn.metrics import confusion_matrix\n",
    "from sklearn.metrics import classification_report"
   ]
  },
  {
   "cell_type": "code",
   "execution_count": 7,
   "id": "2176ec6b",
   "metadata": {},
   "outputs": [],
   "source": [
    "df = pd.read_csv(\"input/divorce.csv\")"
   ]
  },
  {
   "cell_type": "code",
   "execution_count": 8,
   "id": "e3cf96ac",
   "metadata": {},
   "outputs": [
    {
     "data": {
      "text/plain": [
       "Sorry_end                        0\n",
       "Ignore_diff                      0\n",
       "begin_correct                    0\n",
       "Contact                          0\n",
       "Special_time                     0\n",
       "No_home_time                     0\n",
       "2_strangers                      0\n",
       "enjoy_holiday                    0\n",
       "enjoy_travel                     0\n",
       "common_goals                     0\n",
       "harmony                          0\n",
       "freeom_value                     0\n",
       "entertain                        0\n",
       "people_goals                     0\n",
       "dreams                           0\n",
       "love                             0\n",
       "happy                            0\n",
       "marriage                         0\n",
       "roles                            0\n",
       "trust                            0\n",
       "likes                            0\n",
       "care_sick                        0\n",
       "fav_food                         0\n",
       "stresses                         0\n",
       "inner_world                      0\n",
       "anxieties                        0\n",
       "current_stress                   0\n",
       "hopes_wishes                     0\n",
       "know_well                        0\n",
       "friends_social                   0\n",
       "Aggro_argue                      0\n",
       "Always_never                     0\n",
       "negative_personality             0\n",
       "offensive_expressions            0\n",
       "insult                           0\n",
       "humiliate                        0\n",
       "not_calm                         0\n",
       "hate_subjects                    0\n",
       "sudden_discussion                0\n",
       "idk_what's_going_on              0\n",
       "calm_breaks                      0\n",
       "argue_then_leave                 0\n",
       "silent_for_calm                  0\n",
       "good_to_leave_home               0\n",
       "silence_instead_of_discussion    0\n",
       "silence_for_harm                 0\n",
       "silence_fear_anger               0\n",
       "I'm_right                        0\n",
       "accusations                      0\n",
       "I'm_not_guilty                   0\n",
       "I'm_not_wrong                    0\n",
       "no_hesitancy_inadequate          0\n",
       "you're_inadequate                0\n",
       "incompetence                     0\n",
       "Divorce_Y_N                      0\n",
       "dtype: int64"
      ]
     },
     "execution_count": 8,
     "metadata": {},
     "output_type": "execute_result"
    }
   ],
   "source": [
    "df.isna().sum()"
   ]
  },
  {
   "cell_type": "code",
   "execution_count": 9,
   "id": "f169b05e",
   "metadata": {},
   "outputs": [],
   "source": [
    "Y = df.Divorce_Y_N\n",
    "X = df.drop(['Divorce_Y_N'],axis=1)"
   ]
  },
  {
   "cell_type": "code",
   "execution_count": 10,
   "id": "407e028e",
   "metadata": {},
   "outputs": [],
   "source": [
    "X_train, X_test, Y_train, Y_test = train_test_split(\n",
    "    X, Y, test_size=0.33, random_state=42)"
   ]
  },
  {
   "cell_type": "code",
   "execution_count": 11,
   "id": "6a398810",
   "metadata": {},
   "outputs": [
    {
     "data": {
      "text/plain": [
       "KNeighborsClassifier(n_neighbors=3)"
      ]
     },
     "execution_count": 11,
     "metadata": {},
     "output_type": "execute_result"
    }
   ],
   "source": [
    "neigh = KNeighborsClassifier(n_neighbors=3)\n",
    "neigh.fit(X_train, Y_train)"
   ]
  },
  {
   "cell_type": "code",
   "execution_count": 12,
   "id": "24edca96",
   "metadata": {},
   "outputs": [],
   "source": [
    "Y_pred = neigh.predict(X_test)"
   ]
  },
  {
   "cell_type": "code",
   "execution_count": 13,
   "id": "ef67557f",
   "metadata": {},
   "outputs": [
    {
     "data": {
      "text/plain": [
       "array([[28,  0],\n",
       "       [ 1, 28]], dtype=int64)"
      ]
     },
     "execution_count": 13,
     "metadata": {},
     "output_type": "execute_result"
    }
   ],
   "source": [
    "confusion_matrix(Y_test, Y_pred)"
   ]
  },
  {
   "cell_type": "code",
   "execution_count": 14,
   "id": "29c03556",
   "metadata": {},
   "outputs": [
    {
     "name": "stdout",
     "output_type": "stream",
     "text": [
      "              precision    recall  f1-score   support\n",
      "\n",
      "           0       0.97      1.00      0.98        28\n",
      "           1       1.00      0.97      0.98        29\n",
      "\n",
      "    accuracy                           0.98        57\n",
      "   macro avg       0.98      0.98      0.98        57\n",
      "weighted avg       0.98      0.98      0.98        57\n",
      "\n"
     ]
    }
   ],
   "source": [
    "print(classification_report(Y_test, Y_pred))"
   ]
  },
  {
   "cell_type": "code",
   "execution_count": null,
   "id": "72f23d3b",
   "metadata": {},
   "outputs": [],
   "source": []
  }
 ],
 "metadata": {
  "kernelspec": {
   "display_name": "Python 3 (ipykernel)",
   "language": "python",
   "name": "python3"
  },
  "language_info": {
   "codemirror_mode": {
    "name": "ipython",
    "version": 3
   },
   "file_extension": ".py",
   "mimetype": "text/x-python",
   "name": "python",
   "nbconvert_exporter": "python",
   "pygments_lexer": "ipython3",
   "version": "3.9.12"
  }
 },
 "nbformat": 4,
 "nbformat_minor": 5
}

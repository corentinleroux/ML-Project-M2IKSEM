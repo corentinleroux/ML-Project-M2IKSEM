{
 "cells": [
  {
   "cell_type": "code",
   "execution_count": 1,
   "metadata": {},
   "outputs": [],
   "source": [
    "import pandas as pd\n",
    "import numpy as np\n",
    "import matplotlib.pyplot as plt\n",
    "import seaborn as sns"
   ]
  },
  {
   "cell_type": "code",
   "execution_count": 2,
   "metadata": {},
   "outputs": [
    {
     "data": {
      "text/html": [
       "<div>\n",
       "<style scoped>\n",
       "    .dataframe tbody tr th:only-of-type {\n",
       "        vertical-align: middle;\n",
       "    }\n",
       "\n",
       "    .dataframe tbody tr th {\n",
       "        vertical-align: top;\n",
       "    }\n",
       "\n",
       "    .dataframe thead th {\n",
       "        text-align: right;\n",
       "    }\n",
       "</style>\n",
       "<table border=\"1\" class=\"dataframe\">\n",
       "  <thead>\n",
       "    <tr style=\"text-align: right;\">\n",
       "      <th></th>\n",
       "      <th>Sorry_end</th>\n",
       "      <th>Ignore_diff</th>\n",
       "      <th>begin_correct</th>\n",
       "      <th>Contact</th>\n",
       "      <th>Special_time</th>\n",
       "      <th>No_home_time</th>\n",
       "      <th>2_strangers</th>\n",
       "      <th>enjoy_holiday</th>\n",
       "      <th>enjoy_travel</th>\n",
       "      <th>common_goals</th>\n",
       "      <th>...</th>\n",
       "      <th>silence_for_harm</th>\n",
       "      <th>silence_fear_anger</th>\n",
       "      <th>I'm_right</th>\n",
       "      <th>accusations</th>\n",
       "      <th>I'm_not_guilty</th>\n",
       "      <th>I'm_not_wrong</th>\n",
       "      <th>no_hesitancy_inadequate</th>\n",
       "      <th>you're_inadequate</th>\n",
       "      <th>incompetence</th>\n",
       "      <th>Divorce_Y_N</th>\n",
       "    </tr>\n",
       "  </thead>\n",
       "  <tbody>\n",
       "    <tr>\n",
       "      <th>0</th>\n",
       "      <td>2</td>\n",
       "      <td>2</td>\n",
       "      <td>4</td>\n",
       "      <td>1</td>\n",
       "      <td>0</td>\n",
       "      <td>0</td>\n",
       "      <td>0</td>\n",
       "      <td>0</td>\n",
       "      <td>0</td>\n",
       "      <td>0</td>\n",
       "      <td>...</td>\n",
       "      <td>2</td>\n",
       "      <td>1</td>\n",
       "      <td>3</td>\n",
       "      <td>3</td>\n",
       "      <td>3</td>\n",
       "      <td>2</td>\n",
       "      <td>3</td>\n",
       "      <td>2</td>\n",
       "      <td>1</td>\n",
       "      <td>1</td>\n",
       "    </tr>\n",
       "    <tr>\n",
       "      <th>1</th>\n",
       "      <td>4</td>\n",
       "      <td>4</td>\n",
       "      <td>4</td>\n",
       "      <td>4</td>\n",
       "      <td>4</td>\n",
       "      <td>0</td>\n",
       "      <td>0</td>\n",
       "      <td>4</td>\n",
       "      <td>4</td>\n",
       "      <td>4</td>\n",
       "      <td>...</td>\n",
       "      <td>2</td>\n",
       "      <td>2</td>\n",
       "      <td>3</td>\n",
       "      <td>4</td>\n",
       "      <td>4</td>\n",
       "      <td>4</td>\n",
       "      <td>4</td>\n",
       "      <td>2</td>\n",
       "      <td>2</td>\n",
       "      <td>1</td>\n",
       "    </tr>\n",
       "    <tr>\n",
       "      <th>2</th>\n",
       "      <td>2</td>\n",
       "      <td>2</td>\n",
       "      <td>2</td>\n",
       "      <td>2</td>\n",
       "      <td>1</td>\n",
       "      <td>3</td>\n",
       "      <td>2</td>\n",
       "      <td>1</td>\n",
       "      <td>1</td>\n",
       "      <td>2</td>\n",
       "      <td>...</td>\n",
       "      <td>3</td>\n",
       "      <td>2</td>\n",
       "      <td>3</td>\n",
       "      <td>1</td>\n",
       "      <td>1</td>\n",
       "      <td>1</td>\n",
       "      <td>2</td>\n",
       "      <td>2</td>\n",
       "      <td>2</td>\n",
       "      <td>1</td>\n",
       "    </tr>\n",
       "    <tr>\n",
       "      <th>3</th>\n",
       "      <td>3</td>\n",
       "      <td>2</td>\n",
       "      <td>3</td>\n",
       "      <td>2</td>\n",
       "      <td>3</td>\n",
       "      <td>3</td>\n",
       "      <td>3</td>\n",
       "      <td>3</td>\n",
       "      <td>3</td>\n",
       "      <td>3</td>\n",
       "      <td>...</td>\n",
       "      <td>2</td>\n",
       "      <td>2</td>\n",
       "      <td>3</td>\n",
       "      <td>3</td>\n",
       "      <td>3</td>\n",
       "      <td>3</td>\n",
       "      <td>2</td>\n",
       "      <td>2</td>\n",
       "      <td>2</td>\n",
       "      <td>1</td>\n",
       "    </tr>\n",
       "    <tr>\n",
       "      <th>4</th>\n",
       "      <td>2</td>\n",
       "      <td>2</td>\n",
       "      <td>1</td>\n",
       "      <td>1</td>\n",
       "      <td>1</td>\n",
       "      <td>1</td>\n",
       "      <td>0</td>\n",
       "      <td>0</td>\n",
       "      <td>0</td>\n",
       "      <td>0</td>\n",
       "      <td>...</td>\n",
       "      <td>2</td>\n",
       "      <td>1</td>\n",
       "      <td>2</td>\n",
       "      <td>3</td>\n",
       "      <td>2</td>\n",
       "      <td>2</td>\n",
       "      <td>2</td>\n",
       "      <td>1</td>\n",
       "      <td>0</td>\n",
       "      <td>1</td>\n",
       "    </tr>\n",
       "  </tbody>\n",
       "</table>\n",
       "<p>5 rows × 55 columns</p>\n",
       "</div>"
      ],
      "text/plain": [
       "   Sorry_end  Ignore_diff  begin_correct  Contact  Special_time  No_home_time  \\\n",
       "0          2            2              4        1             0             0   \n",
       "1          4            4              4        4             4             0   \n",
       "2          2            2              2        2             1             3   \n",
       "3          3            2              3        2             3             3   \n",
       "4          2            2              1        1             1             1   \n",
       "\n",
       "   2_strangers  enjoy_holiday  enjoy_travel  common_goals  ...  \\\n",
       "0            0              0             0             0  ...   \n",
       "1            0              4             4             4  ...   \n",
       "2            2              1             1             2  ...   \n",
       "3            3              3             3             3  ...   \n",
       "4            0              0             0             0  ...   \n",
       "\n",
       "   silence_for_harm  silence_fear_anger  I'm_right  accusations  \\\n",
       "0                 2                   1          3            3   \n",
       "1                 2                   2          3            4   \n",
       "2                 3                   2          3            1   \n",
       "3                 2                   2          3            3   \n",
       "4                 2                   1          2            3   \n",
       "\n",
       "   I'm_not_guilty  I'm_not_wrong  no_hesitancy_inadequate  you're_inadequate  \\\n",
       "0               3              2                        3                  2   \n",
       "1               4              4                        4                  2   \n",
       "2               1              1                        2                  2   \n",
       "3               3              3                        2                  2   \n",
       "4               2              2                        2                  1   \n",
       "\n",
       "   incompetence  Divorce_Y_N  \n",
       "0             1            1  \n",
       "1             2            1  \n",
       "2             2            1  \n",
       "3             2            1  \n",
       "4             0            1  \n",
       "\n",
       "[5 rows x 55 columns]"
      ]
     },
     "execution_count": 2,
     "metadata": {},
     "output_type": "execute_result"
    }
   ],
   "source": [
    "# Loading data\n",
    "df = pd.read_csv(\"../input/divorce.csv\")\n",
    "\n",
    "# Display first 5 lines\n",
    "df.head()"
   ]
  },
  {
   "cell_type": "code",
   "execution_count": 3,
   "metadata": {},
   "outputs": [
    {
     "name": "stdout",
     "output_type": "stream",
     "text": [
      "<class 'pandas.core.frame.DataFrame'>\n",
      "RangeIndex: 170 entries, 0 to 169\n",
      "Data columns (total 55 columns):\n",
      "Sorry_end                        170 non-null int64\n",
      "Ignore_diff                      170 non-null int64\n",
      "begin_correct                    170 non-null int64\n",
      "Contact                          170 non-null int64\n",
      "Special_time                     170 non-null int64\n",
      "No_home_time                     170 non-null int64\n",
      "2_strangers                      170 non-null int64\n",
      "enjoy_holiday                    170 non-null int64\n",
      "enjoy_travel                     170 non-null int64\n",
      "common_goals                     170 non-null int64\n",
      "harmony                          170 non-null int64\n",
      "freeom_value                     170 non-null int64\n",
      "entertain                        170 non-null int64\n",
      "people_goals                     170 non-null int64\n",
      "dreams                           170 non-null int64\n",
      "love                             170 non-null int64\n",
      "happy                            170 non-null int64\n",
      "marriage                         170 non-null int64\n",
      "roles                            170 non-null int64\n",
      "trust                            170 non-null int64\n",
      "likes                            170 non-null int64\n",
      "care_sick                        170 non-null int64\n",
      "fav_food                         170 non-null int64\n",
      "stresses                         170 non-null int64\n",
      "inner_world                      170 non-null int64\n",
      "anxieties                        170 non-null int64\n",
      "current_stress                   170 non-null int64\n",
      "hopes_wishes                     170 non-null int64\n",
      "know_well                        170 non-null int64\n",
      "friends_social                   170 non-null int64\n",
      "Aggro_argue                      170 non-null int64\n",
      "Always_never                     170 non-null int64\n",
      "negative_personality             170 non-null int64\n",
      "offensive_expressions            170 non-null int64\n",
      "insult                           170 non-null int64\n",
      "humiliate                        170 non-null int64\n",
      "not_calm                         170 non-null int64\n",
      "hate_subjects                    170 non-null int64\n",
      "sudden_discussion                170 non-null int64\n",
      "idk_what's_going_on              170 non-null int64\n",
      "calm_breaks                      170 non-null int64\n",
      "argue_then_leave                 170 non-null int64\n",
      "silent_for_calm                  170 non-null int64\n",
      "good_to_leave_home               170 non-null int64\n",
      "silence_instead_of_discussion    170 non-null int64\n",
      "silence_for_harm                 170 non-null int64\n",
      "silence_fear_anger               170 non-null int64\n",
      "I'm_right                        170 non-null int64\n",
      "accusations                      170 non-null int64\n",
      "I'm_not_guilty                   170 non-null int64\n",
      "I'm_not_wrong                    170 non-null int64\n",
      "no_hesitancy_inadequate          170 non-null int64\n",
      "you're_inadequate                170 non-null int64\n",
      "incompetence                     170 non-null int64\n",
      "Divorce_Y_N                      170 non-null int64\n",
      "dtypes: int64(55)\n",
      "memory usage: 73.2 KB\n"
     ]
    }
   ],
   "source": [
    "# Informations about the dataframe \n",
    "df.info()"
   ]
  },
  {
   "cell_type": "code",
   "execution_count": 4,
   "metadata": {},
   "outputs": [
    {
     "data": {
      "text/html": [
       "<div>\n",
       "<style scoped>\n",
       "    .dataframe tbody tr th:only-of-type {\n",
       "        vertical-align: middle;\n",
       "    }\n",
       "\n",
       "    .dataframe tbody tr th {\n",
       "        vertical-align: top;\n",
       "    }\n",
       "\n",
       "    .dataframe thead th {\n",
       "        text-align: right;\n",
       "    }\n",
       "</style>\n",
       "<table border=\"1\" class=\"dataframe\">\n",
       "  <thead>\n",
       "    <tr style=\"text-align: right;\">\n",
       "      <th></th>\n",
       "      <th>Sorry_end</th>\n",
       "      <th>Ignore_diff</th>\n",
       "      <th>begin_correct</th>\n",
       "      <th>Contact</th>\n",
       "      <th>Special_time</th>\n",
       "      <th>No_home_time</th>\n",
       "      <th>2_strangers</th>\n",
       "      <th>enjoy_holiday</th>\n",
       "      <th>enjoy_travel</th>\n",
       "      <th>common_goals</th>\n",
       "      <th>...</th>\n",
       "      <th>silence_for_harm</th>\n",
       "      <th>silence_fear_anger</th>\n",
       "      <th>I'm_right</th>\n",
       "      <th>accusations</th>\n",
       "      <th>I'm_not_guilty</th>\n",
       "      <th>I'm_not_wrong</th>\n",
       "      <th>no_hesitancy_inadequate</th>\n",
       "      <th>you're_inadequate</th>\n",
       "      <th>incompetence</th>\n",
       "      <th>Divorce_Y_N</th>\n",
       "    </tr>\n",
       "  </thead>\n",
       "  <tbody>\n",
       "    <tr>\n",
       "      <th>count</th>\n",
       "      <td>170.00</td>\n",
       "      <td>170.00</td>\n",
       "      <td>170.00</td>\n",
       "      <td>170.00</td>\n",
       "      <td>170.00</td>\n",
       "      <td>170.00</td>\n",
       "      <td>170.00</td>\n",
       "      <td>170.00</td>\n",
       "      <td>170.00</td>\n",
       "      <td>170.00</td>\n",
       "      <td>...</td>\n",
       "      <td>170.00</td>\n",
       "      <td>170.00</td>\n",
       "      <td>170.00</td>\n",
       "      <td>170.00</td>\n",
       "      <td>170.00</td>\n",
       "      <td>170.00</td>\n",
       "      <td>170.00</td>\n",
       "      <td>170.00</td>\n",
       "      <td>170.00</td>\n",
       "      <td>170.00</td>\n",
       "    </tr>\n",
       "    <tr>\n",
       "      <th>mean</th>\n",
       "      <td>1.78</td>\n",
       "      <td>1.65</td>\n",
       "      <td>1.76</td>\n",
       "      <td>1.48</td>\n",
       "      <td>1.54</td>\n",
       "      <td>0.75</td>\n",
       "      <td>0.49</td>\n",
       "      <td>1.45</td>\n",
       "      <td>1.46</td>\n",
       "      <td>1.58</td>\n",
       "      <td>...</td>\n",
       "      <td>2.55</td>\n",
       "      <td>2.27</td>\n",
       "      <td>2.74</td>\n",
       "      <td>2.38</td>\n",
       "      <td>2.43</td>\n",
       "      <td>2.48</td>\n",
       "      <td>2.52</td>\n",
       "      <td>2.24</td>\n",
       "      <td>2.01</td>\n",
       "      <td>0.49</td>\n",
       "    </tr>\n",
       "    <tr>\n",
       "      <th>std</th>\n",
       "      <td>1.63</td>\n",
       "      <td>1.47</td>\n",
       "      <td>1.42</td>\n",
       "      <td>1.50</td>\n",
       "      <td>1.63</td>\n",
       "      <td>0.90</td>\n",
       "      <td>0.90</td>\n",
       "      <td>1.55</td>\n",
       "      <td>1.56</td>\n",
       "      <td>1.42</td>\n",
       "      <td>...</td>\n",
       "      <td>1.37</td>\n",
       "      <td>1.59</td>\n",
       "      <td>1.14</td>\n",
       "      <td>1.51</td>\n",
       "      <td>1.41</td>\n",
       "      <td>1.26</td>\n",
       "      <td>1.48</td>\n",
       "      <td>1.51</td>\n",
       "      <td>1.67</td>\n",
       "      <td>0.50</td>\n",
       "    </tr>\n",
       "    <tr>\n",
       "      <th>min</th>\n",
       "      <td>0.00</td>\n",
       "      <td>0.00</td>\n",
       "      <td>0.00</td>\n",
       "      <td>0.00</td>\n",
       "      <td>0.00</td>\n",
       "      <td>0.00</td>\n",
       "      <td>0.00</td>\n",
       "      <td>0.00</td>\n",
       "      <td>0.00</td>\n",
       "      <td>0.00</td>\n",
       "      <td>...</td>\n",
       "      <td>0.00</td>\n",
       "      <td>0.00</td>\n",
       "      <td>0.00</td>\n",
       "      <td>0.00</td>\n",
       "      <td>0.00</td>\n",
       "      <td>0.00</td>\n",
       "      <td>0.00</td>\n",
       "      <td>0.00</td>\n",
       "      <td>0.00</td>\n",
       "      <td>0.00</td>\n",
       "    </tr>\n",
       "    <tr>\n",
       "      <th>25%</th>\n",
       "      <td>0.00</td>\n",
       "      <td>0.00</td>\n",
       "      <td>0.00</td>\n",
       "      <td>0.00</td>\n",
       "      <td>0.00</td>\n",
       "      <td>0.00</td>\n",
       "      <td>0.00</td>\n",
       "      <td>0.00</td>\n",
       "      <td>0.00</td>\n",
       "      <td>0.00</td>\n",
       "      <td>...</td>\n",
       "      <td>2.00</td>\n",
       "      <td>1.00</td>\n",
       "      <td>2.00</td>\n",
       "      <td>1.00</td>\n",
       "      <td>1.00</td>\n",
       "      <td>2.00</td>\n",
       "      <td>1.00</td>\n",
       "      <td>1.00</td>\n",
       "      <td>0.00</td>\n",
       "      <td>0.00</td>\n",
       "    </tr>\n",
       "    <tr>\n",
       "      <th>50%</th>\n",
       "      <td>2.00</td>\n",
       "      <td>2.00</td>\n",
       "      <td>2.00</td>\n",
       "      <td>1.00</td>\n",
       "      <td>1.00</td>\n",
       "      <td>0.00</td>\n",
       "      <td>0.00</td>\n",
       "      <td>1.00</td>\n",
       "      <td>1.00</td>\n",
       "      <td>2.00</td>\n",
       "      <td>...</td>\n",
       "      <td>3.00</td>\n",
       "      <td>2.00</td>\n",
       "      <td>3.00</td>\n",
       "      <td>3.00</td>\n",
       "      <td>2.00</td>\n",
       "      <td>3.00</td>\n",
       "      <td>3.00</td>\n",
       "      <td>2.00</td>\n",
       "      <td>2.00</td>\n",
       "      <td>0.00</td>\n",
       "    </tr>\n",
       "    <tr>\n",
       "      <th>75%</th>\n",
       "      <td>3.00</td>\n",
       "      <td>3.00</td>\n",
       "      <td>3.00</td>\n",
       "      <td>3.00</td>\n",
       "      <td>3.00</td>\n",
       "      <td>1.00</td>\n",
       "      <td>1.00</td>\n",
       "      <td>3.00</td>\n",
       "      <td>3.00</td>\n",
       "      <td>3.00</td>\n",
       "      <td>...</td>\n",
       "      <td>4.00</td>\n",
       "      <td>4.00</td>\n",
       "      <td>4.00</td>\n",
       "      <td>4.00</td>\n",
       "      <td>4.00</td>\n",
       "      <td>4.00</td>\n",
       "      <td>4.00</td>\n",
       "      <td>4.00</td>\n",
       "      <td>4.00</td>\n",
       "      <td>1.00</td>\n",
       "    </tr>\n",
       "    <tr>\n",
       "      <th>max</th>\n",
       "      <td>4.00</td>\n",
       "      <td>4.00</td>\n",
       "      <td>4.00</td>\n",
       "      <td>4.00</td>\n",
       "      <td>4.00</td>\n",
       "      <td>4.00</td>\n",
       "      <td>4.00</td>\n",
       "      <td>4.00</td>\n",
       "      <td>4.00</td>\n",
       "      <td>4.00</td>\n",
       "      <td>...</td>\n",
       "      <td>4.00</td>\n",
       "      <td>4.00</td>\n",
       "      <td>4.00</td>\n",
       "      <td>4.00</td>\n",
       "      <td>4.00</td>\n",
       "      <td>4.00</td>\n",
       "      <td>4.00</td>\n",
       "      <td>4.00</td>\n",
       "      <td>4.00</td>\n",
       "      <td>1.00</td>\n",
       "    </tr>\n",
       "  </tbody>\n",
       "</table>\n",
       "<p>8 rows × 55 columns</p>\n",
       "</div>"
      ],
      "text/plain": [
       "      Sorry_end Ignore_diff begin_correct Contact Special_time No_home_time  \\\n",
       "count    170.00      170.00        170.00  170.00       170.00       170.00   \n",
       "mean       1.78        1.65          1.76    1.48         1.54         0.75   \n",
       "std        1.63        1.47          1.42    1.50         1.63         0.90   \n",
       "min        0.00        0.00          0.00    0.00         0.00         0.00   \n",
       "25%        0.00        0.00          0.00    0.00         0.00         0.00   \n",
       "50%        2.00        2.00          2.00    1.00         1.00         0.00   \n",
       "75%        3.00        3.00          3.00    3.00         3.00         1.00   \n",
       "max        4.00        4.00          4.00    4.00         4.00         4.00   \n",
       "\n",
       "      2_strangers enjoy_holiday enjoy_travel common_goals  ...  \\\n",
       "count      170.00        170.00       170.00       170.00  ...   \n",
       "mean         0.49          1.45         1.46         1.58  ...   \n",
       "std          0.90          1.55         1.56         1.42  ...   \n",
       "min          0.00          0.00         0.00         0.00  ...   \n",
       "25%          0.00          0.00         0.00         0.00  ...   \n",
       "50%          0.00          1.00         1.00         2.00  ...   \n",
       "75%          1.00          3.00         3.00         3.00  ...   \n",
       "max          4.00          4.00         4.00         4.00  ...   \n",
       "\n",
       "      silence_for_harm silence_fear_anger I'm_right accusations  \\\n",
       "count           170.00             170.00    170.00      170.00   \n",
       "mean              2.55               2.27      2.74        2.38   \n",
       "std               1.37               1.59      1.14        1.51   \n",
       "min               0.00               0.00      0.00        0.00   \n",
       "25%               2.00               1.00      2.00        1.00   \n",
       "50%               3.00               2.00      3.00        3.00   \n",
       "75%               4.00               4.00      4.00        4.00   \n",
       "max               4.00               4.00      4.00        4.00   \n",
       "\n",
       "      I'm_not_guilty I'm_not_wrong no_hesitancy_inadequate you're_inadequate  \\\n",
       "count         170.00        170.00                  170.00            170.00   \n",
       "mean            2.43          2.48                    2.52              2.24   \n",
       "std             1.41          1.26                    1.48              1.51   \n",
       "min             0.00          0.00                    0.00              0.00   \n",
       "25%             1.00          2.00                    1.00              1.00   \n",
       "50%             2.00          3.00                    3.00              2.00   \n",
       "75%             4.00          4.00                    4.00              4.00   \n",
       "max             4.00          4.00                    4.00              4.00   \n",
       "\n",
       "      incompetence Divorce_Y_N  \n",
       "count       170.00      170.00  \n",
       "mean          2.01        0.49  \n",
       "std           1.67        0.50  \n",
       "min           0.00        0.00  \n",
       "25%           0.00        0.00  \n",
       "50%           2.00        0.00  \n",
       "75%           4.00        1.00  \n",
       "max           4.00        1.00  \n",
       "\n",
       "[8 rows x 55 columns]"
      ]
     },
     "execution_count": 4,
     "metadata": {},
     "output_type": "execute_result"
    }
   ],
   "source": [
    "# Generate descriptive statistics\n",
    "df.describe().applymap('{:,.2f}'.format)"
   ]
  },
  {
   "cell_type": "code",
   "execution_count": 5,
   "metadata": {},
   "outputs": [
    {
     "data": {
      "text/plain": [
       "0"
      ]
     },
     "execution_count": 5,
     "metadata": {},
     "output_type": "execute_result"
    }
   ],
   "source": [
    "# preprocessing data to see if they are any missing values\n",
    "df.isnull().sum().sum()"
   ]
  },
  {
   "cell_type": "code",
   "execution_count": 6,
   "metadata": {},
   "outputs": [],
   "source": [
    "# splitting data arrays into two subsets: for training data and for testing data\n",
    "\n",
    "from sklearn.model_selection import train_test_split\n",
    "\n",
    "X = df.drop(['Divorce_Y_N'],axis=1)\n",
    "y = df.Divorce_Y_N\n",
    "\n",
    "X_train, X_test, y_train, y_test = train_test_split(X, y,random_state=42))"
   ]
  },
  {
   "cell_type": "code",
   "execution_count": 7,
   "metadata": {},
   "outputs": [],
   "source": [
    "# display format\n",
    "\n",
    "from sklearn.metrics import confusion_matrix, accuracy_score, classification_report\n",
    "\n",
    "def evaluate(model, X_train, X_test, y_train, y_test):\n",
    "    y_test_pred = model.predict(X_test)\n",
    "    y_train_pred = model.predict(X_train)\n",
    "    \n",
    "    print(\"TRAINIG RESULTS: \\n===============================\")\n",
    "    clf_report = pd.DataFrame(classification_report(y_train, y_train_pred, output_dict=True))\n",
    "    print(f\"CONFUSION MATRIX:\")\n",
    "    CMtraining = sns.heatmap(confusion_matrix(y_train, y_train_pred), annot=True,cmap=\"icefire\")\n",
    "    plt.show(CMtraining)\n",
    "    print(f\"ACCURACY SCORE:\\n{accuracy_score(y_train, y_train_pred):.4f}\")\n",
    "    print(f\"CLASSIFICATION REPORT:\\n{clf_report}\")\n",
    "\n",
    "    print(\"\\n\")\n",
    "    print(\"TESTING RESULTS: \\n===============================\")\n",
    "    clf_report = pd.DataFrame(classification_report(y_test, y_test_pred, output_dict=True))\n",
    "    CMtest = sns.heatmap(confusion_matrix(y_test, y_test_pred), annot=True,cmap=\"icefire\")\n",
    "    print(f\"CONFUSION MATRIX:\")\n",
    "    CMtest = sns.heatmap(confusion_matrix(y_test, y_test_pred), annot=True,cmap=\"icefire\")\n",
    "    plt.show(CMtest)\n",
    "    print(f\"ACCURACY SCORE:\\n{accuracy_score(y_test, y_test_pred):.4f}\")\n",
    "    print(f\"CLASSIFICATION REPORT:\\n{clf_report}\")"
   ]
  },
  {
   "cell_type": "code",
   "execution_count": 8,
   "metadata": {},
   "outputs": [
    {
     "name": "stdout",
     "output_type": "stream",
     "text": [
      "TRAINIG RESULTS: \n",
      "===============================\n",
      "CONFUSION MATRIX:\n"
     ]
    },
    {
     "data": {
      "image/png": "[encoded data removed]",
      "text/plain": [
       "<Figure size 432x288 with 2 Axes>"
      ]
     },
     "metadata": {
      "needs_background": "light"
     },
     "output_type": "display_data"
    },
    {
     "name": "stdout",
     "output_type": "stream",
     "text": [
      "ACCURACY SCORE:\n",
      "1.0000\n",
      "CLASSIFICATION REPORT:\n",
      "              0     1  accuracy  macro avg  weighted avg\n",
      "precision   1.0   1.0       1.0        1.0           1.0\n",
      "recall      1.0   1.0       1.0        1.0           1.0\n",
      "f1-score    1.0   1.0       1.0        1.0           1.0\n",
      "support    65.0  62.0       1.0      127.0         127.0\n",
      "\n",
      "\n",
      "TESTING RESULTS: \n",
      "===============================\n",
      "CONFUSION MATRIX:\n"
     ]
    },
    {
     "data": {
      "image/png": "[encoded data removed]",
      "text/plain": [
       "<Figure size 432x288 with 3 Axes>"
      ]
     },
     "metadata": {
      "needs_background": "light"
     },
     "output_type": "display_data"
    },
    {
     "name": "stdout",
     "output_type": "stream",
     "text": [
      "ACCURACY SCORE:\n",
      "0.9767\n",
      "CLASSIFICATION REPORT:\n",
      "                   0          1  accuracy  macro avg  weighted avg\n",
      "precision   0.954545   1.000000  0.976744   0.977273      0.977801\n",
      "recall      1.000000   0.954545  0.976744   0.977273      0.976744\n",
      "f1-score    0.976744   0.976744  0.976744   0.976744      0.976744\n",
      "support    21.000000  22.000000  0.976744  43.000000     43.000000\n"
     ]
    }
   ],
   "source": [
    "# Predicting Divorce using Bagging Classifier\n",
    "\n",
    "from sklearn.ensemble import BaggingClassifier\n",
    "from sklearn.tree import DecisionTreeClassifier\n",
    "\n",
    "tree = DecisionTreeClassifier()\n",
    "bagging_clf = BaggingClassifier(base_estimator=tree, n_estimators=1500, random_state=42)\n",
    "bagging_clf.fit(X_train, y_train)\n",
    "\n",
    "evaluate(bagging_clf, X_train, X_test, y_train, y_test)"
   ]
  },
  {
   "cell_type": "code",
   "execution_count": 9,
   "metadata": {},
   "outputs": [
    {
     "data": {
      "text/plain": [
       "['../website/model/bagging_classifier.pkl']"
      ]
     },
     "execution_count": 9,
     "metadata": {},
     "output_type": "execute_result"
    }
   ],
   "source": [
    "# Create the model for the website\n",
    "import joblib\n",
    "joblib.dump(bagging_clf, \"../website/model/bagging_classifier.pkl\")"
   ]
  },
  {
   "cell_type": "code",
   "execution_count": 10,
   "metadata": {},
   "outputs": [
    {
     "name": "stdout",
     "output_type": "stream",
     "text": [
      "TRAINIG RESULTS: \n",
      "===============================\n",
      "CONFUSION MATRIX:\n"
     ]
    },
    {
     "data": {
      "image/png": "[encoded data removed]",
      "text/plain": [
       "<Figure size 432x288 with 2 Axes>"
      ]
     },
     "metadata": {
      "needs_background": "light"
     },
     "output_type": "display_data"
    },
    {
     "name": "stdout",
     "output_type": "stream",
     "text": [
      "ACCURACY SCORE:\n",
      "1.0000\n",
      "CLASSIFICATION REPORT:\n",
      "              0     1  accuracy  macro avg  weighted avg\n",
      "precision   1.0   1.0       1.0        1.0           1.0\n",
      "recall      1.0   1.0       1.0        1.0           1.0\n",
      "f1-score    1.0   1.0       1.0        1.0           1.0\n",
      "support    65.0  62.0       1.0      127.0         127.0\n",
      "\n",
      "\n",
      "TESTING RESULTS: \n",
      "===============================\n",
      "CONFUSION MATRIX:\n"
     ]
    },
    {
     "data": {
      "image/png": "[encoded data removed]",
      "text/plain": [
       "<Figure size 432x288 with 3 Axes>"
      ]
     },
     "metadata": {
      "needs_background": "light"
     },
     "output_type": "display_data"
    },
    {
     "name": "stdout",
     "output_type": "stream",
     "text": [
      "ACCURACY SCORE:\n",
      "0.9767\n",
      "CLASSIFICATION REPORT:\n",
      "                   0          1  accuracy  macro avg  weighted avg\n",
      "precision   0.954545   1.000000  0.976744   0.977273      0.977801\n",
      "recall      1.000000   0.954545  0.976744   0.977273      0.976744\n",
      "f1-score    0.976744   0.976744  0.976744   0.976744      0.976744\n",
      "support    21.000000  22.000000  0.976744  43.000000     43.000000\n"
     ]
    }
   ],
   "source": [
    "# Predicting Divorce using RandomForest Classifier\n",
    "\n",
    "from sklearn.ensemble import RandomForestClassifier\n",
    "\n",
    "rf_clf = RandomForestClassifier(random_state=42, n_estimators=1000)\n",
    "rf_clf.fit(X_train, y_train)\n",
    "evaluate(rf_clf, X_train, X_test, y_train, y_test)"
   ]
  },
  {
   "cell_type": "code",
   "execution_count": 11,
   "metadata": {},
   "outputs": [
    {
     "data": {
      "text/plain": [
       "['../website/model/bagging_randomforest.pkl']"
      ]
     },
     "execution_count": 11,
     "metadata": {},
     "output_type": "execute_result"
    }
   ],
   "source": [
    "# Create the model for the website\n",
    "import joblib\n",
    "joblib.dump(rf_clf, \"../website/model/bagging_randomforest.pkl\")"
   ]
  },
  {
   "cell_type": "code",
   "execution_count": 12,
   "metadata": {
    "scrolled": false
   },
   "outputs": [
    {
     "name": "stdout",
     "output_type": "stream",
     "text": [
      "TRAINIG RESULTS: \n",
      "===============================\n",
      "CONFUSION MATRIX:\n"
     ]
    },
    {
     "data": {
      "image/png": "[encoded data removed]",
      "text/plain": [
       "<Figure size 432x288 with 2 Axes>"
      ]
     },
     "metadata": {
      "needs_background": "light"
     },
     "output_type": "display_data"
    },
    {
     "name": "stdout",
     "output_type": "stream",
     "text": [
      "ACCURACY SCORE:\n",
      "1.0000\n",
      "CLASSIFICATION REPORT:\n",
      "              0     1  accuracy  macro avg  weighted avg\n",
      "precision   1.0   1.0       1.0        1.0           1.0\n",
      "recall      1.0   1.0       1.0        1.0           1.0\n",
      "f1-score    1.0   1.0       1.0        1.0           1.0\n",
      "support    65.0  62.0       1.0      127.0         127.0\n",
      "\n",
      "\n",
      "TESTING RESULTS: \n",
      "===============================\n",
      "CONFUSION MATRIX:\n"
     ]
    },
    {
     "data": {
      "image/png": "[encoded data removed]",
      "text/plain": [
       "<Figure size 432x288 with 3 Axes>"
      ]
     },
     "metadata": {
      "needs_background": "light"
     },
     "output_type": "display_data"
    },
    {
     "name": "stdout",
     "output_type": "stream",
     "text": [
      "ACCURACY SCORE:\n",
      "0.9767\n",
      "CLASSIFICATION REPORT:\n",
      "                   0          1  accuracy  macro avg  weighted avg\n",
      "precision   0.954545   1.000000  0.976744   0.977273      0.977801\n",
      "recall      1.000000   0.954545  0.976744   0.977273      0.976744\n",
      "f1-score    0.976744   0.976744  0.976744   0.976744      0.976744\n",
      "support    21.000000  22.000000  0.976744  43.000000     43.000000\n"
     ]
    }
   ],
   "source": [
    "# Predicting Divorce using ExtraTrees Classifier\n",
    "\n",
    "from sklearn.ensemble import ExtraTreesClassifier\n",
    "\n",
    "ex_tree_clf = ExtraTreesClassifier(n_estimators=1000, max_features=7, random_state=42)\n",
    "ex_tree_clf.fit(X_train, y_train)\n",
    "evaluate(ex_tree_clf, X_train, X_test, y_train, y_test)"
   ]
  },
  {
   "cell_type": "code",
   "execution_count": 13,
   "metadata": {},
   "outputs": [
    {
     "data": {
      "text/plain": [
       "['../website/model/bagging_extratrees.pkl']"
      ]
     },
     "execution_count": 13,
     "metadata": {},
     "output_type": "execute_result"
    }
   ],
   "source": [
    "# Create the model for the website\n",
    "import joblib\n",
    "joblib.dump(ex_tree_clf, \"../website/model/bagging_extratrees.pkl\")"
   ]
  }
 ],
 "metadata": {
  "kernelspec": {
   "display_name": "Python 3",
   "language": "python",
   "name": "python3"
  },
  "language_info": {
   "codemirror_mode": {
    "name": "ipython",
    "version": 3
   },
   "file_extension": ".py",
   "mimetype": "text/x-python",
   "name": "python",
   "nbconvert_exporter": "python",
   "pygments_lexer": "ipython3",
   "version": "3.7.4"
  }
 },
 "nbformat": 4,
 "nbformat_minor": 4
}
